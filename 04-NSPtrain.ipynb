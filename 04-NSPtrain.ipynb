{
 "cells": [
  {
   "cell_type": "code",
   "execution_count": null,
   "source": [],
   "outputs": [],
   "metadata": {}
  }
 ],
 "metadata": {
  "orig_nbformat": 4,
  "language_info": {
   "name": "python",
   "version": "3.8.3"
  },
  "kernelspec": {
   "name": "python3",
   "display_name": "Python 3.8.3 64-bit ('pDL': conda)"
  },
  "interpreter": {
   "hash": "1c0e05ce53746a51582d81d6493e921a5fc2be3a37559f7311fb011379659f5e"
  }
 },
 "nbformat": 4,
 "nbformat_minor": 2
}